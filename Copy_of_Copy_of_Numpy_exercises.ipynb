{
  "nbformat": 4,
  "nbformat_minor": 5,
  "metadata": {
    "colab": {
      "name": "Copy of Copy of Numpy_exercises.ipynb",
      "provenance": [],
      "collapsed_sections": [],
      "include_colab_link": true
    },
    "language_info": {
      "name": "python"
    },
    "kernelspec": {
      "name": "python3",
      "display_name": "Python 3"
    },
    "accelerator": "GPU"
  },
  "cells": [
    {
      "cell_type": "markdown",
      "metadata": {
        "id": "view-in-github",
        "colab_type": "text"
      },
      "source": [
        "<a href=\"https://colab.research.google.com/github/majd98/Data-science-HTU/blob/main/Copy_of_Copy_of_Numpy_exercises.ipynb\" target=\"_parent\"><img src=\"https://colab.research.google.com/assets/colab-badge.svg\" alt=\"Open In Colab\"/></a>"
      ]
    },
    {
      "cell_type": "markdown",
      "metadata": {
        "id": "bf79c78b"
      },
      "source": [
        "# Numpy exercises\n"
      ],
      "id": "bf79c78b"
    },
    {
      "cell_type": "markdown",
      "metadata": {
        "id": "017db353"
      },
      "source": [
        "#### 1. Import the numpy package under the name `np` (★☆☆) `hint: import … as`"
      ],
      "id": "017db353"
    },
    {
      "cell_type": "code",
      "metadata": {
        "id": "68182a76"
      },
      "source": [
        "import numpy as np\n"
      ],
      "id": "68182a76",
      "execution_count": 1,
      "outputs": []
    },
    {
      "cell_type": "markdown",
      "metadata": {
        "id": "e3c20b3d"
      },
      "source": [
        "#### 2. Create a null vector of size 10 (★☆☆) `hint: vector is a single raw array`"
      ],
      "id": "e3c20b3d"
    },
    {
      "cell_type": "code",
      "metadata": {
        "id": "8a758bcf",
        "colab": {
          "base_uri": "https://localhost:8080/"
        },
        "outputId": "dc403c17-e0cd-429f-b528-b125c04ed008"
      },
      "source": [
        "x = np.zeros(10)\n",
        "print (x)"
      ],
      "id": "8a758bcf",
      "execution_count": 2,
      "outputs": [
        {
          "output_type": "stream",
          "text": [
            "[0. 0. 0. 0. 0. 0. 0. 0. 0. 0.]\n"
          ],
          "name": "stdout"
        }
      ]
    },
    {
      "cell_type": "markdown",
      "metadata": {
        "id": "b15a879f"
      },
      "source": [
        "#### 3. How to find the memory size of any array, creat a random 5x6 array and check the sizs (★☆☆)"
      ],
      "id": "b15a879f"
    },
    {
      "cell_type": "code",
      "metadata": {
        "id": "1cc3cbc5",
        "colab": {
          "base_uri": "https://localhost:8080/"
        },
        "outputId": "7565a6eb-1a85-4462-a1d6-58226f3d86e2"
      },
      "source": [
        "y =  np.arange(1, 31).reshape(5,6)\n",
        "print(y)\n",
        "print(y.size)"
      ],
      "id": "1cc3cbc5",
      "execution_count": 3,
      "outputs": [
        {
          "output_type": "stream",
          "text": [
            "[[ 1  2  3  4  5  6]\n",
            " [ 7  8  9 10 11 12]\n",
            " [13 14 15 16 17 18]\n",
            " [19 20 21 22 23 24]\n",
            " [25 26 27 28 29 30]]\n",
            "30\n"
          ],
          "name": "stdout"
        }
      ]
    },
    {
      "cell_type": "markdown",
      "metadata": {
        "id": "0a708990"
      },
      "source": [
        "#### 4. How to get the documentation of the numpy add function from the command line? (★☆☆) `hint: use info or ?`"
      ],
      "id": "0a708990"
    },
    {
      "cell_type": "code",
      "metadata": {
        "id": "477e01f4",
        "colab": {
          "base_uri": "https://localhost:8080/",
          "height": 129
        },
        "outputId": "f6963cc8-0e04-4815-d8ac-d297a935cd57"
      },
      "source": [
        "python -c \"import numpy; numpy.info(numpy.add)\""
      ],
      "id": "477e01f4",
      "execution_count": null,
      "outputs": [
        {
          "output_type": "error",
          "ename": "SyntaxError",
          "evalue": "ignored",
          "traceback": [
            "\u001b[0;36m  File \u001b[0;32m\"<ipython-input-6-1663cd30cb7c>\"\u001b[0;36m, line \u001b[0;32m1\u001b[0m\n\u001b[0;31m    python -c \"import numpy; numpy.info(numpy.add)\"\u001b[0m\n\u001b[0m                                                  ^\u001b[0m\n\u001b[0;31mSyntaxError\u001b[0m\u001b[0;31m:\u001b[0m invalid syntax\n"
          ]
        }
      ]
    },
    {
      "cell_type": "markdown",
      "metadata": {
        "id": "0b16cd77"
      },
      "source": [
        "#### 5. Create a null vector of size 10 but the fifth value which is 1 (★☆☆) `hint: array[x]`"
      ],
      "id": "0b16cd77"
    },
    {
      "cell_type": "code",
      "metadata": {
        "id": "4d9b5975",
        "colab": {
          "base_uri": "https://localhost:8080/"
        },
        "outputId": "71074914-12e6-4967-c845-30e1419500a6"
      },
      "source": [
        "Z= np.zeros(10)\n",
        "Z[4]= 1\n",
        "print (Z)"
      ],
      "id": "4d9b5975",
      "execution_count": null,
      "outputs": [
        {
          "output_type": "stream",
          "text": [
            "[0. 0. 0. 0. 1. 0. 0. 0. 0. 0.]\n"
          ],
          "name": "stdout"
        }
      ]
    },
    {
      "cell_type": "markdown",
      "metadata": {
        "id": "782d4c77"
      },
      "source": [
        "#### 7. Create a vector (single raw array) with values ranging from 10 to 49 (★☆☆) `hint: arange`"
      ],
      "id": "782d4c77"
    },
    {
      "cell_type": "code",
      "metadata": {
        "id": "5dbe1a08",
        "colab": {
          "base_uri": "https://localhost:8080/"
        },
        "outputId": "1fee3899-4398-42a0-df32-658e10f63bc2"
      },
      "source": [
        "w=np.arange(10,50)\n",
        "print (w)"
      ],
      "id": "5dbe1a08",
      "execution_count": null,
      "outputs": [
        {
          "output_type": "stream",
          "text": [
            "[10 11 12 13 14 15 16 17 18 19 20 21 22 23 24 25 26 27 28 29 30 31 32 33\n",
            " 34 35 36 37 38 39 40 41 42 43 44 45 46 47 48 49]\n"
          ],
          "name": "stdout"
        }
      ]
    },
    {
      "cell_type": "markdown",
      "metadata": {
        "id": "48d48f01"
      },
      "source": [
        "#### 8. Show how you can Reverse a vector (first element becomes last) (★☆☆)`hint: use index of -1`"
      ],
      "id": "48d48f01"
    },
    {
      "cell_type": "code",
      "metadata": {
        "id": "3ed233e7",
        "colab": {
          "base_uri": "https://localhost:8080/"
        },
        "outputId": "d3625d03-9454-4038-f596-408bbadffe4a"
      },
      "source": [
        "w = np.arange(10,50)\n",
        "w= w[::-1]\n",
        "print (w)"
      ],
      "id": "3ed233e7",
      "execution_count": null,
      "outputs": [
        {
          "output_type": "stream",
          "text": [
            "[49 48 47 46 45 44 43 42 41 40 39 38 37 36 35 34 33 32 31 30 29 28 27 26\n",
            " 25 24 23 22 21 20 19 18 17 16 15 14 13 12 11 10]\n"
          ],
          "name": "stdout"
        }
      ]
    },
    {
      "cell_type": "markdown",
      "metadata": {
        "id": "4fa39382"
      },
      "source": [
        "#### 9. Create a 3x3 matrix with values ranging from 0 to 8 (★☆☆) `hint: use range and reshape!`"
      ],
      "id": "4fa39382"
    },
    {
      "cell_type": "code",
      "metadata": {
        "id": "c97757ec",
        "colab": {
          "base_uri": "https://localhost:8080/"
        },
        "outputId": "c0264d72-2f08-48ea-c1cd-24ecfffbaa0b"
      },
      "source": [
        "m = np.arange(9).reshape(3,3)\n",
        "print (m)"
      ],
      "id": "c97757ec",
      "execution_count": null,
      "outputs": [
        {
          "output_type": "stream",
          "text": [
            "[[0 1 2]\n",
            " [3 4 5]\n",
            " [6 7 8]]\n"
          ],
          "name": "stdout"
        }
      ]
    },
    {
      "cell_type": "markdown",
      "metadata": {
        "id": "da64551a"
      },
      "source": [
        "#### 10. Find indices of non-zero elements from [1,2,0,0,4,0] (★☆☆) `hint: use the np.nonzero`"
      ],
      "id": "da64551a"
    },
    {
      "cell_type": "code",
      "metadata": {
        "id": "327f7adb",
        "colab": {
          "base_uri": "https://localhost:8080/"
        },
        "outputId": "cd31f8e1-c47c-469d-879d-efcd5677d63b"
      },
      "source": [
        "kk = np.nonzero([1,2,0,0,4,0])\n",
        "print(kk)"
      ],
      "id": "327f7adb",
      "execution_count": null,
      "outputs": [
        {
          "output_type": "stream",
          "text": [
            "(array([0, 1, 4]),)\n"
          ],
          "name": "stdout"
        }
      ]
    },
    {
      "cell_type": "markdown",
      "metadata": {
        "id": "f89d9c9e"
      },
      "source": [
        "#### 11. Create a 3x3 identity matrix (★☆☆) `hint: use index and use np.eye`\n",
        "the following is an example of 5x4 identity matrix\n",
        "\n",
        "\n",
        "```\n",
        "[[1. 0. 0. 0. 0.]\n",
        " [0. 1. 0. 0. 0.]\n",
        " [0. 0. 1. 0. 0.]\n",
        " [0. 0. 0. 1. 0.]\n",
        " [0. 0. 0. 0. 1.]]\n",
        "\n",
        "```\n",
        "\n"
      ],
      "id": "f89d9c9e"
    },
    {
      "cell_type": "code",
      "metadata": {
        "id": "ba625832",
        "colab": {
          "base_uri": "https://localhost:8080/"
        },
        "outputId": "3d19cdf7-4a05-44ae-b76c-c5d13811c9c7"
      },
      "source": [
        "h= np.eye(3)\n",
        "print (h)"
      ],
      "id": "ba625832",
      "execution_count": null,
      "outputs": [
        {
          "output_type": "stream",
          "text": [
            "[[1. 0. 0.]\n",
            " [0. 1. 0.]\n",
            " [0. 0. 1.]]\n"
          ],
          "name": "stdout"
        }
      ]
    },
    {
      "cell_type": "markdown",
      "metadata": {
        "id": "7e44c6fa"
      },
      "source": [
        "#### 12. Create a 3x3x3 array with random values (★☆☆) `hint: np.random.random`"
      ],
      "id": "7e44c6fa"
    },
    {
      "cell_type": "code",
      "metadata": {
        "id": "1cb3dddf",
        "colab": {
          "base_uri": "https://localhost:8080/"
        },
        "outputId": "82141750-9e60-4c19-8373-c94df31f7a68"
      },
      "source": [
        "mm = np.random.uniform((3,3,3))\n",
        "print (mm)"
      ],
      "id": "1cb3dddf",
      "execution_count": null,
      "outputs": [
        {
          "output_type": "stream",
          "text": [
            "[1.14556774 2.71810058 2.02751011]\n"
          ],
          "name": "stdout"
        }
      ]
    },
    {
      "cell_type": "markdown",
      "metadata": {
        "id": "13c5928c"
      },
      "source": [
        "#### 13. Create a 10x10 array with random values and find the minimum and maximum values (★☆☆) `hint: min, max`"
      ],
      "id": "13c5928c"
    },
    {
      "cell_type": "code",
      "metadata": {
        "id": "911c9b93",
        "colab": {
          "base_uri": "https://localhost:8080/"
        },
        "outputId": "8fbbd2b0-aac9-445c-89a9-34155eda396b"
      },
      "source": [
        "xk = np.random.random((10,10))\n",
        "xkmin, xkmax = xk.min(), xk.max()\n",
        "print(xkmin, xkmax)"
      ],
      "id": "911c9b93",
      "execution_count": null,
      "outputs": [
        {
          "output_type": "stream",
          "text": [
            "0.0011460980725359615 0.9757727358091725\n"
          ],
          "name": "stdout"
        }
      ]
    },
    {
      "cell_type": "markdown",
      "metadata": {
        "id": "3fa2e461"
      },
      "source": [
        "#### 14. Create a random vector of size 30 and find the mean value (★☆☆) `hint: mean`"
      ],
      "id": "3fa2e461"
    },
    {
      "cell_type": "code",
      "metadata": {
        "id": "323eb38a",
        "colab": {
          "base_uri": "https://localhost:8080/"
        },
        "outputId": "2d7ba5bc-bff8-40b1-f94d-78653c04d5a6"
      },
      "source": [
        "p = np.random.random(10)\n",
        "me = p.mean()\n",
        "print (me)"
      ],
      "id": "323eb38a",
      "execution_count": null,
      "outputs": [
        {
          "output_type": "stream",
          "text": [
            "0.5638774566811169\n"
          ],
          "name": "stdout"
        }
      ]
    },
    {
      "cell_type": "markdown",
      "metadata": {
        "id": "73f7a549"
      },
      "source": [
        "#### 15. Create a 2d array as following, with 1 on the border and 0 inside.. see generated array (★☆☆)\n",
        "\n",
        "\n",
        "\n",
        "```\n",
        "[[1. 1. 1. 1. 1. 1. 1. 1. 1. 1.]\n",
        " [1. 0. 0. 0. 0. 0. 0. 0. 0. 1.]\n",
        " [1. 0. 0. 0. 0. 0. 0. 0. 0. 1.]\n",
        " [1. 0. 0. 0. 0. 0. 0. 0. 0. 1.]\n",
        " [1. 0. 0. 0. 0. 0. 0. 0. 0. 1.]\n",
        " [1. 0. 0. 0. 0. 0. 0. 0. 0. 1.]\n",
        " [1. 0. 0. 0. 0. 0. 0. 0. 0. 1.]\n",
        " [1. 0. 0. 0. 0. 0. 0. 0. 0. 1.]\n",
        " [1. 0. 0. 0. 0. 0. 0. 0. 0. 1.]\n",
        " [1. 1. 1. 1. 1. 1. 1. 1. 1. 1.]]\n",
        "```\n",
        "\n"
      ],
      "id": "73f7a549"
    },
    {
      "cell_type": "code",
      "metadata": {
        "id": "e3a6807d"
      },
      "source": [
        "wx = np.ones((10,10))\n",
        "wx[1:-1,1:-1]=0"
      ],
      "id": "e3a6807d",
      "execution_count": null,
      "outputs": []
    },
    {
      "cell_type": "markdown",
      "metadata": {
        "id": "6d0c506f"
      },
      "source": [
        "#### 16. How to add a border (filled with 0's) around an existing array? (★★☆) `hint: see generated array np.pad   `"
      ],
      "id": "6d0c506f"
    },
    {
      "cell_type": "code",
      "metadata": {
        "id": "32ffee7b"
      },
      "source": [
        "wx = np.ones((10,10))\n",
        "wx[1:-1,1:-1]=0"
      ],
      "id": "32ffee7b",
      "execution_count": null,
      "outputs": []
    },
    {
      "cell_type": "markdown",
      "metadata": {
        "id": "d6ad1a9f"
      },
      "source": [
        "#### 17. What is the result of the following expression? (★☆☆)\n",
        "```python\n",
        "0 * np.nan\n",
        "np.nan == np.nan\n",
        "np.inf > np.nan\n",
        "np.nan - np.nan\n",
        "np.nan in set([np.nan])\n",
        "0.3 == 3 * 0.1\n",
        "```"
      ],
      "id": "d6ad1a9f"
    },
    {
      "cell_type": "markdown",
      "metadata": {
        "id": "cUiAXyeXApYe"
      },
      "source": [
        " ####18  What is the result of the following expression? (★☆☆) `hint: indexing the nan using np.nan`\n",
        "\n",
        "\n",
        "\n",
        "```\n",
        "Z = np.ones((5,5))\n",
        "Z[0,1]=np.nan\n",
        "Z\n",
        "```\n",
        "\n"
      ],
      "id": "cUiAXyeXApYe"
    },
    {
      "cell_type": "code",
      "metadata": {
        "id": "wirXjeT-Bd2H",
        "colab": {
          "base_uri": "https://localhost:8080/"
        },
        "outputId": "e1e2be0b-e6da-40e4-a81b-afa479d0d503"
      },
      "source": [
        "Z = np.ones((5,5))\n",
        "Z[0,1]=np.nan\n",
        "Z"
      ],
      "id": "wirXjeT-Bd2H",
      "execution_count": null,
      "outputs": [
        {
          "output_type": "execute_result",
          "data": {
            "text/plain": [
              "array([[ 1., nan,  1.,  1.,  1.],\n",
              "       [ 1.,  1.,  1.,  1.,  1.],\n",
              "       [ 1.,  1.,  1.,  1.,  1.],\n",
              "       [ 1.,  1.,  1.,  1.,  1.],\n",
              "       [ 1.,  1.,  1.,  1.,  1.]])"
            ]
          },
          "metadata": {
            "tags": []
          },
          "execution_count": 26
        }
      ]
    },
    {
      "cell_type": "markdown",
      "metadata": {
        "id": "qujryEWVA4pY"
      },
      "source": [
        "#### 18. Now, use this expression to find the index of your nan\n",
        "\n",
        "\n",
        "```\n",
        "np.argwhere(x!=x)    Hint: x is your array\n",
        "```\n",
        "\n",
        "\n",
        "\n"
      ],
      "id": "qujryEWVA4pY"
    },
    {
      "cell_type": "markdown",
      "metadata": {
        "id": "FvqtyHKDDJbO"
      },
      "source": [
        "20. Generate the following array \n",
        "\n",
        "\n",
        "```\n",
        "array([[ 1,  2,  3,  4],\n",
        "       [ 5,  6,  7,  8],\n",
        "       [ 9, 10, 11, 12],\n",
        "       [13, 14, 15, 16]])\n",
        "```\n",
        "\n"
      ],
      "id": "FvqtyHKDDJbO"
    },
    {
      "cell_type": "code",
      "metadata": {
        "id": "41OqU1ueElVm",
        "colab": {
          "base_uri": "https://localhost:8080/"
        },
        "outputId": "3dcb31c4-80c5-4469-cdf3-cd1f00bf8392"
      },
      "source": [
        "arr =  np.arange(1, 17).reshape(4,4)\n",
        "print(arr)"
      ],
      "id": "41OqU1ueElVm",
      "execution_count": null,
      "outputs": [
        {
          "output_type": "stream",
          "text": [
            "[[ 1  2  3  4]\n",
            " [ 5  6  7  8]\n",
            " [ 9 10 11 12]\n",
            " [13 14 15 16]]\n"
          ],
          "name": "stdout"
        }
      ]
    },
    {
      "cell_type": "markdown",
      "metadata": {
        "id": "Nu-kxgXYEw4H"
      },
      "source": [
        "#### 19. Extract the following values `array([ 1,  6, 11, 16])`. ` Hint: use np.diagonal()`"
      ],
      "id": "Nu-kxgXYEw4H"
    },
    {
      "cell_type": "code",
      "metadata": {
        "id": "K75gLJt5AkD2",
        "colab": {
          "base_uri": "https://localhost:8080/"
        },
        "outputId": "67660db2-5a8e-4b02-bc7c-1251b097ff0c"
      },
      "source": [
        "print(np.diagonal(arr))"
      ],
      "id": "K75gLJt5AkD2",
      "execution_count": null,
      "outputs": [
        {
          "output_type": "stream",
          "text": [
            "[ 1  6 11 16]\n"
          ],
          "name": "stdout"
        }
      ]
    },
    {
      "cell_type": "code",
      "metadata": {
        "colab": {
          "base_uri": "https://localhost:8080/"
        },
        "id": "bMmo0hIlC2It",
        "outputId": "0276e34f-93d9-4054-ccdd-a3552479e1eb"
      },
      "source": [
        "Z"
      ],
      "id": "bMmo0hIlC2It",
      "execution_count": null,
      "outputs": [
        {
          "output_type": "execute_result",
          "data": {
            "text/plain": [
              "array([7.29e-44, 1.96e-44, 2.80e-45, 1.35e-43, 5.75e-44, 9.95e-44,\n",
              "       9.25e-44, 7.85e-44, 6.31e-44, 5.61e-45], dtype=float32)"
            ]
          },
          "metadata": {
            "tags": []
          },
          "execution_count": 82
        }
      ]
    },
    {
      "cell_type": "markdown",
      "metadata": {
        "id": "e3a7ba7f"
      },
      "source": [
        "#### 20. Try to use `np.diag` to Create a 5x5 matrix with diagonal values 11,11,11,11 (★★☆) Hint: use np.diag with k=0 and [11,11,11,11]. -- diag([11,11,11,11],k=-0)"
      ],
      "id": "e3a7ba7f"
    },
    {
      "cell_type": "markdown",
      "metadata": {
        "id": "puqXeNWRF4yG"
      },
      "source": [
        "#### 21.  Create a 5x5 matrix with values 1,2,3,4 just below the diagonal (★☆☆) `Hint: use k=-1 when calling np.diag`"
      ],
      "id": "puqXeNWRF4yG"
    },
    {
      "cell_type": "code",
      "metadata": {
        "colab": {
          "base_uri": "https://localhost:8080/"
        },
        "id": "01d8e257",
        "outputId": "1e95dde6-d350-4b41-c3c5-01f55cfaccd1"
      },
      "source": [
        "wm = np.diag([11,11,11,11], k = -0)\n",
        "print (wm)"
      ],
      "id": "01d8e257",
      "execution_count": null,
      "outputs": [
        {
          "output_type": "stream",
          "text": [
            "[[11  0  0  0]\n",
            " [ 0 11  0  0]\n",
            " [ 0  0 11  0]\n",
            " [ 0  0  0 11]]\n"
          ],
          "name": "stdout"
        }
      ]
    },
    {
      "cell_type": "markdown",
      "metadata": {
        "id": "6d17ab5d"
      },
      "source": [
        "####22. Create a 8x8 matrix and fill it with a given pattern (★☆☆) Hint: use np.zeros and do the replace \n",
        "\n",
        "\n",
        "\n",
        "```\n",
        "[['' 'O' '' 'O' '' 'O' '' 'O']\n",
        " ['M' '' 'M' '' 'M' '' 'M' '']\n",
        " ['' 'O' '' 'O' '' 'O' '' 'O']\n",
        " ['M' '' 'M' '' 'M' '' 'M' '']\n",
        " ['' 'O' '' 'O' '' 'O' '' 'O']\n",
        " ['M' '' 'M' '' 'M' '' 'M' '']\n",
        " ['' 'O' '' 'O' '' 'O' '' 'O']\n",
        " ['M' '' 'M' '' 'M' '' 'M' '']]\n",
        "```\n",
        "\n"
      ],
      "id": "6d17ab5d"
    },
    {
      "cell_type": "code",
      "metadata": {
        "colab": {
          "base_uri": "https://localhost:8080/"
        },
        "id": "841373cd",
        "outputId": "486ec24b-6e0e-4c08-d843-abddcb180478"
      },
      "source": [
        ""
      ],
      "id": "841373cd",
      "execution_count": null,
      "outputs": [
        {
          "output_type": "stream",
          "text": [
            "[['' 'O' '' 'O' '' 'O' '' 'O']\n",
            " ['M' '' 'M' '' 'M' '' 'M' '']\n",
            " ['' 'O' '' 'O' '' 'O' '' 'O']\n",
            " ['M' '' 'M' '' 'M' '' 'M' '']\n",
            " ['' 'O' '' 'O' '' 'O' '' 'O']\n",
            " ['M' '' 'M' '' 'M' '' 'M' '']\n",
            " ['' 'O' '' 'O' '' 'O' '' 'O']\n",
            " ['M' '' 'M' '' 'M' '' 'M' '']]\n"
          ],
          "name": "stdout"
        }
      ]
    },
    {
      "cell_type": "markdown",
      "metadata": {
        "id": "TWPMKIRMG5B-"
      },
      "source": [
        "#### 23. Use the `np.tile` to generate the same pattern \n",
        "\n",
        "```\n",
        "[['' 'O' '' 'O' '' 'O' '' 'O']\n",
        " ['M' '' 'M' '' 'M' '' 'M' '']\n",
        " ['' 'O' '' 'O' '' 'O' '' 'O']\n",
        " ['M' '' 'M' '' 'M' '' 'M' '']\n",
        " ['' 'O' '' 'O' '' 'O' '' 'O']\n",
        " ['M' '' 'M' '' 'M' '' 'M' '']\n",
        " ['' 'O' '' 'O' '' 'O' '' 'O']\n",
        " ['M' '' 'M' '' 'M' '' 'M' '']]\n",
        "```\n",
        "\n"
      ],
      "id": "TWPMKIRMG5B-"
    },
    {
      "cell_type": "code",
      "metadata": {
        "colab": {
          "base_uri": "https://localhost:8080/"
        },
        "id": "0a4f919f",
        "outputId": "acd982d3-cc5c-449e-8f33-afb07bc7a0b0"
      },
      "source": [
        ""
      ],
      "id": "0a4f919f",
      "execution_count": null,
      "outputs": [
        {
          "output_type": "stream",
          "text": [
            "[['' 'O' '' 'O' '' 'O' '' 'O']\n",
            " ['M' '' 'M' '' 'M' '' 'M' '']\n",
            " ['' 'O' '' 'O' '' 'O' '' 'O']\n",
            " ['M' '' 'M' '' 'M' '' 'M' '']\n",
            " ['' 'O' '' 'O' '' 'O' '' 'O']\n",
            " ['M' '' 'M' '' 'M' '' 'M' '']\n",
            " ['' 'O' '' 'O' '' 'O' '' 'O']\n",
            " ['M' '' 'M' '' 'M' '' 'M' '']]\n"
          ],
          "name": "stdout"
        }
      ]
    },
    {
      "cell_type": "markdown",
      "metadata": {
        "id": "391791e0"
      },
      "source": [
        "#### 24. Generate then Normalize a 5x5 random matrix (★☆☆)  `hint: Normalization_array = (x_arr -mean_value(x))/std_value(x)`"
      ],
      "id": "391791e0"
    },
    {
      "cell_type": "code",
      "metadata": {
        "id": "f6533d39",
        "colab": {
          "base_uri": "https://localhost:8080/"
        },
        "outputId": "7e54b94e-9159-4a85-99da-d4a4f5323ec3"
      },
      "source": [
        "nom = np.random.random((5,5))\n",
        "nommax, nommin = nom.max(), nom.min()\n",
        "nom= (nom-nommin)/(nommax-nommin)\n",
        "print (nom)"
      ],
      "id": "f6533d39",
      "execution_count": null,
      "outputs": [
        {
          "output_type": "stream",
          "text": [
            "[[1.         0.92220953 0.19857251 0.2858187  0.04011973]\n",
            " [0.72754484 0.98632215 0.37581093 0.43856114 0.00511566]\n",
            " [0.90839266 0.         0.4777315  0.85026589 0.67383228]\n",
            " [0.55175907 0.7477602  0.01136956 0.09306881 0.61584875]\n",
            " [0.02374507 0.36333678 0.35223338 0.06077511 0.05469075]]\n"
          ],
          "name": "stdout"
        }
      ]
    },
    {
      "cell_type": "markdown",
      "metadata": {
        "id": "51898680"
      },
      "source": [
        "#### 25. generate any 1D array, negate all elements which are between 3 and 8, in place. (★☆☆)\n",
        "\n",
        "where \n",
        "\n",
        "```\n",
        "array([ 0,  1,  2,  3,  4,  5,  6,  7,  8,  9, 10])\n",
        "```\n",
        "will return\n",
        "\n",
        "```\n",
        "[ 0  1  2  3 -4 -5 -6 -7  8  9 10]\n",
        "```\n",
        "\n",
        "\n"
      ],
      "id": "51898680"
    },
    {
      "cell_type": "code",
      "metadata": {
        "colab": {
          "base_uri": "https://localhost:8080/"
        },
        "id": "51c90f2d",
        "outputId": "8df9b127-1948-4390-e0cd-c9f985e051d3"
      },
      "source": [
        "Z = np.arange(11)\n",
        "# Your code here!. "
      ],
      "id": "51c90f2d",
      "execution_count": null,
      "outputs": [
        {
          "output_type": "execute_result",
          "data": {
            "text/plain": [
              "array([ 0,  1,  2,  3,  4,  5,  6,  7,  8,  9, 10])"
            ]
          },
          "metadata": {
            "tags": []
          },
          "execution_count": 72
        }
      ]
    },
    {
      "cell_type": "markdown",
      "metadata": {
        "id": "ebd10810"
      },
      "source": [
        "#### 26. Consider an integer vector Z, comment any iligal expressions (★☆☆)\n",
        "```python\n",
        "Z**Z\n",
        "2 << Z >> 2\n",
        "Z <- Z\n",
        "1j*Z\n",
        "Z/1/1\n",
        "Z<Z>Z\n",
        "```"
      ],
      "id": "ebd10810"
    },
    {
      "cell_type": "code",
      "metadata": {
        "id": "GPHf_u70qIqJ"
      },
      "source": [
        "# anything anything"
      ],
      "id": "GPHf_u70qIqJ",
      "execution_count": null,
      "outputs": []
    },
    {
      "cell_type": "markdown",
      "metadata": {
        "id": "f1ae2c2d"
      },
      "source": [
        "#### 27. Generate two randon 1D array, How to find common values between two arrays? (★☆☆) `Hint: use intersect1d(Arr1,Arr2)`"
      ],
      "id": "f1ae2c2d"
    },
    {
      "cell_type": "code",
      "metadata": {
        "id": "6801c73d"
      },
      "source": [
        "\n"
      ],
      "id": "6801c73d",
      "execution_count": null,
      "outputs": []
    },
    {
      "cell_type": "markdown",
      "metadata": {
        "id": "34a7bdee"
      },
      "source": [
        "#### 28. How to ignore all numpy warnings (not recommended)? (★☆☆)"
      ],
      "id": "34a7bdee"
    },
    {
      "cell_type": "code",
      "metadata": {
        "id": "befc60d1",
        "colab": {
          "base_uri": "https://localhost:8080/"
        },
        "outputId": "414493ea-d7ea-49ac-bf9f-7eba6e8212e0"
      },
      "source": [
        "np.seterr(all=\"ignore\")"
      ],
      "id": "befc60d1",
      "execution_count": null,
      "outputs": [
        {
          "output_type": "execute_result",
          "data": {
            "text/plain": [
              "{'divide': 'warn', 'invalid': 'warn', 'over': 'warn', 'under': 'ignore'}"
            ]
          },
          "metadata": {
            "tags": []
          },
          "execution_count": 39
        }
      ]
    },
    {
      "cell_type": "markdown",
      "metadata": {
        "id": "37bc0973"
      },
      "source": [
        "####29. Is the following expressions true? (★☆☆)\n",
        "```python\n",
        "np.sqrt(-1) == np.emath.sqrt(-1)\n",
        "```"
      ],
      "id": "37bc0973"
    },
    {
      "cell_type": "markdown",
      "metadata": {
        "id": "aI3ODFjHZWb7"
      },
      "source": [
        "\n",
        "\n",
        "> **NO**\n",
        "\n"
      ],
      "id": "aI3ODFjHZWb7"
    }
  ]
}